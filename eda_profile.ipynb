{
 "cells": [
  {
   "cell_type": "code",
   "execution_count": 1,
   "metadata": {},
   "outputs": [],
   "source": [
    "from pandas_profiling import ProfileReport\n",
    "import pandas as pd"
   ]
  },
  {
   "cell_type": "code",
   "execution_count": 2,
   "metadata": {},
   "outputs": [
    {
     "name": "stderr",
     "output_type": "stream",
     "text": [
      "Summarize dataset: 100%|██████████| 148/148 [00:10<00:00, 13.46it/s, Completed]                                                                                     \n",
      "Generate report structure: 100%|██████████| 1/1 [00:02<00:00,  2.24s/it]\n",
      "Render HTML: 100%|██████████| 1/1 [00:01<00:00,  1.14s/it]\n",
      "Export report to file: 100%|██████████| 1/1 [00:00<00:00, 66.67it/s]\n"
     ]
    }
   ],
   "source": [
    "df = pd.read_csv('Appendix_2_Data_for_Figure_2.1.csv')\n",
    "report = ProfileReport(df)\n",
    "report.to_file('World_Happy_EDA_report.html')"
   ]
  }
 ],
 "metadata": {
  "interpreter": {
   "hash": "d628ccd37ab30d0df33023b2f7d6624a98fde3a90f379635690b1748f93e1c15"
  },
  "kernelspec": {
   "display_name": "Python 3.10.4 64-bit",
   "language": "python",
   "name": "python3"
  },
  "language_info": {
   "codemirror_mode": {
    "name": "ipython",
    "version": 3
   },
   "file_extension": ".py",
   "mimetype": "text/x-python",
   "name": "python",
   "nbconvert_exporter": "python",
   "pygments_lexer": "ipython3",
   "version": "3.10.4"
  },
  "orig_nbformat": 4
 },
 "nbformat": 4,
 "nbformat_minor": 2
}
